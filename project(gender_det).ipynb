{
 "cells": [
  {
   "cell_type": "code",
   "execution_count": 4,
   "id": "14de8f93-0491-47d6-a009-b2e7e5aadd90",
   "metadata": {},
   "outputs": [],
   "source": [
    "import cv2\n",
    "import os\n",
    "import numpy as np\n",
    "import joblib\n",
    "from sklearn.decomposition import PCA\n",
    "from sklearn.model_selection import train_test_split\n",
    "from sklearn.linear_model import LogisticRegression\n",
    "\n",
    "# make \n",
    "X = []\n",
    "y = []\n",
    "for i in os.listdir('D:/Ducat/NLP/NLP_datasets/male-20250726T060959Z-1-001/male'):\n",
    "    img = cv2.imread(f'D:/Ducat/NLP/NLP_datasets/male-20250726T060959Z-1-001/male/{i}',cv2.IMREAD_GRAYSCALE)\n",
    "    img = cv2.resize(img,(100,100))\n",
    "    img = img/255\n",
    "    X.append(img.flatten())\n",
    "    y.append('male')\n",
    "\n",
    "for i in os.listdir('D:/Ducat/NLP/NLP_datasets/female-20250714T150010Z-1-001/female'):\n",
    "    img = cv2.imread(f'D:/Ducat/NLP/NLP_datasets/female-20250714T150010Z-1-001/female/{i}',cv2.IMREAD_GRAYSCALE)\n",
    "    img = cv2.resize(img,(100,100))\n",
    "    img = img/255\n",
    "    X.append(img.flatten())\n",
    "    y.append('female')\n",
    "\n",
    "X = np.array(X)\n",
    "y = np.array(y)\n",
    "\n",
    "pca = PCA(n_components=149)\n",
    "X_new = pca.fit_transform(X)\n",
    "\n",
    "model_log = LogisticRegression(max_iter=2000)\n",
    "model_log.fit(X_new,y)\n",
    "\n",
    "model_face = cv2.CascadeClassifier('haarcascade_frontalface_default.xml')\n",
    "img_clr = cv2.imread('wp5075652-virushka-wallpapers.jpg')\n",
    "img_gray = cv2.cvtColor(img_clr,cv2.IMREAD_GRAYSCALE)\n",
    "face_list = model_face.detectMultiScale(img_gray,minNeighbors= 9)\n",
    "for i,j,k,l in face_list:\n",
    "    face = img_clr[j:j+l,i:i+k]\n",
    "    face = cv2.cvtColor(face,cv2.COLOR_BGR2GRAY)\n",
    "    face = cv2.resize(face,(100,100))\n",
    "    face = face/255\n",
    "    face = pca.transform([face.flatten()])\n",
    "    pred = model_log.predict(face)\n",
    "    cv2.rectangle(img_clr,(i,j),(i+k,j+l),(0,0,255),2)\n",
    "    cv2.putText(img_clr,pred[0],(i,j-5),cv2.FONT_HERSHEY_PLAIN,2,(255,255,255),2)\n",
    "img_2 = cv2.resize(img_clr,(500,600))\n",
    "cv2.imshow('test',img_2)\n",
    "cv2.waitKey()\n",
    "cv2.destroyAllWindows()\n",
    "\n",
    "\n",
    "joblib.dump(model_log,'gender.pkl')\n",
    "joblib.dump(pca,'pca_transform.pkl')"
   ]
  },
  {
   "cell_type": "code",
   "execution_count": null,
   "id": "0b7d3cd3-994c-4a0e-b154-872e58a91a85",
   "metadata": {},
   "outputs": [],
   "source": []
  }
 ],
 "metadata": {
  "kernelspec": {
   "display_name": "Python 3 (ipykernel)",
   "language": "python",
   "name": "python3"
  },
  "language_info": {
   "codemirror_mode": {
    "name": "ipython",
    "version": 3
   },
   "file_extension": ".py",
   "mimetype": "text/x-python",
   "name": "python",
   "nbconvert_exporter": "python",
   "pygments_lexer": "ipython3",
   "version": "3.12.7"
  }
 },
 "nbformat": 4,
 "nbformat_minor": 5
}
